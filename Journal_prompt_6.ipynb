{
 "cells": [
  {
   "cell_type": "code",
   "execution_count": 38,
   "id": "d7b0d30d-403a-4b05-92ce-0c5c081cdd4a",
   "metadata": {},
   "outputs": [],
   "source": [
    "import numpy as np\n",
    "from astropy.table import Table"
   ]
  },
  {
   "cell_type": "markdown",
   "id": "922250cb-ef8b-4e29-a24d-e124378e5c67",
   "metadata": {},
   "source": [
    "**Accepts number x and returns sin of x**"
   ]
  },
  {
   "cell_type": "code",
   "execution_count": 39,
   "id": "eafabce5-2abb-435e-a911-7622cd22d5a4",
   "metadata": {},
   "outputs": [],
   "source": [
    "def sin_func(x):\n",
    "    answer = np.sin(x)\n",
    "    return np.sin(x)"
   ]
  },
  {
   "cell_type": "markdown",
   "id": "9a90b1cd-4893-496a-9d02-c56020821236",
   "metadata": {},
   "source": [
    "**Accepts number x and returns cos of x**"
   ]
  },
  {
   "cell_type": "code",
   "execution_count": 40,
   "id": "379a3f59-ac28-49ec-bf04-3aea4ffef454",
   "metadata": {},
   "outputs": [],
   "source": [
    "def cos_func(x):\n",
    "    answer = np.cos(x)\n",
    "    return answer"
   ]
  },
  {
   "cell_type": "code",
   "execution_count": 41,
   "id": "4ce5acd8-cdd1-4f09-ae40-8372148dcfb1",
   "metadata": {},
   "outputs": [],
   "source": [
    "x = np.linspace(start=0, stop=2*np.pi, num=1000)"
   ]
  },
  {
   "cell_type": "code",
   "execution_count": 42,
   "id": "de0af318-98b0-4891-a9c0-4701ef263b90",
   "metadata": {},
   "outputs": [
    {
     "name": "stdout",
     "output_type": "stream",
     "text": [
      "  x   sin(x) cos(x)\n",
      "----- ------ ------\n",
      "0.000  0.000  1.000\n",
      "  x   sin(x) cos(x)\n",
      "----- ------ ------\n",
      "0.006  0.006  1.000\n"
     ]
    }
   ],
   "source": [
    "data_table = Table()\n",
    "data_table[\"x\"] = x\n",
    "data_table[\"sin(x)\"] = sin_func(x)\n",
    "data_table[\"cos(x)\"] = cos_func(x)\n",
    "\n",
    "data_table[\"x\"].format = \"{:.3f}\"\n",
    "data_table[\"sin(x)\"].format = \"{:.3f}\"\n",
    "data_table[\"cos(x)\"].format = \"{:.3f}\"\n",
    "\n",
    "print(data_table[0])\n",
    "print(data_table[1])   "
   ]
  },
  {
   "cell_type": "code",
   "execution_count": 43,
   "id": "78662ffe-accd-4c04-affd-50952ec92294",
   "metadata": {},
   "outputs": [
    {
     "name": "stdout",
     "output_type": "stream",
     "text": [
      "  x   sin(x) cos(x)\n",
      "----- ------ ------\n",
      "0.000  0.000  1.000\n",
      "  x   sin(x) cos(x)\n",
      "----- ------ ------\n",
      "0.006  0.006  1.000\n",
      "  x   sin(x) cos(x)\n",
      "----- ------ ------\n",
      "0.013  0.013  1.000\n",
      "  x   sin(x) cos(x)\n",
      "----- ------ ------\n",
      "0.019  0.019  1.000\n",
      "  x   sin(x) cos(x)\n",
      "----- ------ ------\n",
      "0.025  0.025  1.000\n",
      "  x   sin(x) cos(x)\n",
      "----- ------ ------\n",
      "0.031  0.031  1.000\n",
      "  x   sin(x) cos(x)\n",
      "----- ------ ------\n",
      "0.038  0.038  0.999\n",
      "  x   sin(x) cos(x)\n",
      "----- ------ ------\n",
      "0.044  0.044  0.999\n",
      "  x   sin(x) cos(x)\n",
      "----- ------ ------\n",
      "0.050  0.050  0.999\n",
      "  x   sin(x) cos(x)\n",
      "----- ------ ------\n",
      "0.057  0.057  0.998\n"
     ]
    }
   ],
   "source": [
    "for i in range(10):\n",
    "    print(data_table[i]) "
   ]
  },
  {
   "cell_type": "code",
   "execution_count": null,
   "id": "c84a2cf0-d585-4244-ac26-2e131b727bdf",
   "metadata": {},
   "outputs": [],
   "source": []
  }
 ],
 "metadata": {
  "kernelspec": {
   "display_name": "Python 3 (ipykernel)",
   "language": "python",
   "name": "python3"
  },
  "language_info": {
   "codemirror_mode": {
    "name": "ipython",
    "version": 3
   },
   "file_extension": ".py",
   "mimetype": "text/x-python",
   "name": "python",
   "nbconvert_exporter": "python",
   "pygments_lexer": "ipython3",
   "version": "3.12.1"
  }
 },
 "nbformat": 4,
 "nbformat_minor": 5
}
