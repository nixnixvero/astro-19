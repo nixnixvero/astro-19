{
 "cells": [
  {
   "cell_type": "code",
   "execution_count": 33,
   "id": "d7b0d30d-403a-4b05-92ce-0c5c081cdd4a",
   "metadata": {},
   "outputs": [],
   "source": [
    "import numpy as np\n",
    "from astropy.table import Table"
   ]
  },
  {
   "cell_type": "markdown",
   "id": "922250cb-ef8b-4e29-a24d-e124378e5c67",
   "metadata": {},
   "source": [
    "**Accepts number x and returns sin of x**"
   ]
  },
  {
   "cell_type": "code",
   "execution_count": 34,
   "id": "eafabce5-2abb-435e-a911-7622cd22d5a4",
   "metadata": {},
   "outputs": [],
   "source": [
    "def sin_func(x):\n",
    "    answer = np.sin(x)\n",
    "    return np.sin(x)"
   ]
  },
  {
   "cell_type": "markdown",
   "id": "9a90b1cd-4893-496a-9d02-c56020821236",
   "metadata": {},
   "source": [
    "**Accepts number x and returns cos of x**"
   ]
  },
  {
   "cell_type": "code",
   "execution_count": 35,
   "id": "379a3f59-ac28-49ec-bf04-3aea4ffef454",
   "metadata": {},
   "outputs": [],
   "source": [
    "def cos_func(x):\n",
    "    asnwer = np.cos(x)\n",
    "    return answer"
   ]
  },
  {
   "cell_type": "code",
   "execution_count": 36,
   "id": "4ce5acd8-cdd1-4f09-ae40-8372148dcfb1",
   "metadata": {},
   "outputs": [],
   "source": [
    "x = np.linspace(start=0, stop=2*np.pi, num=1000)"
   ]
  },
  {
   "cell_type": "code",
   "execution_count": 37,
   "id": "de0af318-98b0-4891-a9c0-4701ef263b90",
   "metadata": {},
   "outputs": [
    {
     "ename": "NameError",
     "evalue": "name 'answer' is not defined",
     "output_type": "error",
     "traceback": [
      "\u001b[0;31m---------------------------------------------------------------------------\u001b[0m",
      "\u001b[0;31mNameError\u001b[0m                                 Traceback (most recent call last)",
      "Cell \u001b[0;32mIn[37], line 4\u001b[0m\n\u001b[1;32m      2\u001b[0m data_table[\u001b[38;5;124m\"\u001b[39m\u001b[38;5;124mx\u001b[39m\u001b[38;5;124m\"\u001b[39m] \u001b[38;5;241m=\u001b[39m x\n\u001b[1;32m      3\u001b[0m data_table[\u001b[38;5;124m\"\u001b[39m\u001b[38;5;124msin(x)\u001b[39m\u001b[38;5;124m\"\u001b[39m] \u001b[38;5;241m=\u001b[39m sin_func(x)\n\u001b[0;32m----> 4\u001b[0m data_table[\u001b[38;5;124m\"\u001b[39m\u001b[38;5;124mcos(x)\u001b[39m\u001b[38;5;124m\"\u001b[39m] \u001b[38;5;241m=\u001b[39m \u001b[43mcos_func\u001b[49m\u001b[43m(\u001b[49m\u001b[43mx\u001b[49m\u001b[43m)\u001b[49m\n\u001b[1;32m      6\u001b[0m data_table[\u001b[38;5;124m\"\u001b[39m\u001b[38;5;124mx\u001b[39m\u001b[38;5;124m\"\u001b[39m]\u001b[38;5;241m.\u001b[39mformat \u001b[38;5;241m=\u001b[39m \u001b[38;5;124m\"\u001b[39m\u001b[38;5;132;01m{:.3f}\u001b[39;00m\u001b[38;5;124m\"\u001b[39m\n\u001b[1;32m      7\u001b[0m data_table[\u001b[38;5;124m\"\u001b[39m\u001b[38;5;124msin(x)\u001b[39m\u001b[38;5;124m\"\u001b[39m]\u001b[38;5;241m.\u001b[39mformat \u001b[38;5;241m=\u001b[39m \u001b[38;5;124m\"\u001b[39m\u001b[38;5;132;01m{:.3f}\u001b[39;00m\u001b[38;5;124m\"\u001b[39m\n",
      "Cell \u001b[0;32mIn[35], line 3\u001b[0m, in \u001b[0;36mcos_func\u001b[0;34m(x)\u001b[0m\n\u001b[1;32m      1\u001b[0m \u001b[38;5;28;01mdef\u001b[39;00m \u001b[38;5;21mcos_func\u001b[39m(x):\n\u001b[1;32m      2\u001b[0m     asnwer \u001b[38;5;241m=\u001b[39m np\u001b[38;5;241m.\u001b[39mcos(x)\n\u001b[0;32m----> 3\u001b[0m     \u001b[38;5;28;01mreturn\u001b[39;00m \u001b[43manswer\u001b[49m\n",
      "\u001b[0;31mNameError\u001b[0m: name 'answer' is not defined"
     ]
    }
   ],
   "source": [
    "data_table = Table()\n",
    "data_table[\"x\"] = x\n",
    "data_table[\"sin(x)\"] = sin_func(x)\n",
    "data_table[\"cos(x)\"] = cos_func(x)\n",
    "\n",
    "data_table[\"x\"].format = \"{:.3f}\"\n",
    "data_table[\"sin(x)\"].format = \"{:.3f}\"\n",
    "data_table[\"cos(x)\"].format = \"{:.3f}\"\n",
    "\n",
    "print(data_table[0])\n",
    "print(data_table[1])   "
   ]
  },
  {
   "cell_type": "code",
   "execution_count": null,
   "id": "78662ffe-accd-4c04-affd-50952ec92294",
   "metadata": {},
   "outputs": [],
   "source": [
    "for i in range(10):\n",
    "    print(data_table[i]) "
   ]
  },
  {
   "cell_type": "code",
   "execution_count": null,
   "id": "c84a2cf0-d585-4244-ac26-2e131b727bdf",
   "metadata": {},
   "outputs": [],
   "source": []
  }
 ],
 "metadata": {
  "kernelspec": {
   "display_name": "Python 3 (ipykernel)",
   "language": "python",
   "name": "python3"
  },
  "language_info": {
   "codemirror_mode": {
    "name": "ipython",
    "version": 3
   },
   "file_extension": ".py",
   "mimetype": "text/x-python",
   "name": "python",
   "nbconvert_exporter": "python",
   "pygments_lexer": "ipython3",
   "version": "3.12.1"
  }
 },
 "nbformat": 4,
 "nbformat_minor": 5
}
